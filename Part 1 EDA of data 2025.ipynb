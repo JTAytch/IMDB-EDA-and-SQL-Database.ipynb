{
 "cells": [
  {
   "cell_type": "markdown",
   "id": "a058e36a-6d00-4969-94cb-905879f044a9",
   "metadata": {},
   "source": [
    "# 📊 Exploratory Data Analysis (EDA) – TMDb Yearly Movie Data  \n",
    "**Author:** Joseph Tulani Aytch  \n",
    "**Last Updated:** Aug 2025  \n",
    "\n",
    "---\n",
    "\n",
    "## 🎯 Objective\n",
    "Combine yearly TMDb movie datasets, clean them for analysis, and answer key exploratory questions:\n",
    "\n",
    "1. **Load** `csv.gz` files for each year  \n",
    "2. **Merge** into a single DataFrame  \n",
    "3. **Filter** for movies with valid financial data *(budget > 0 or revenue > 0)*  \n",
    "4. **Summarize**:\n",
    "   - Movies per certification category *(G, PG, PG‑13, R)*\n",
    "   - Average revenue per certification\n",
    "   - Average budget per certification\n",
    "\n",
    "This structured EDA builds a baseline understanding before deeper analysis or visualization.\n",
    "\n",
    "---\n",
    "\n",
    "## 📌 How to Use This Notebook\n",
    "- **View Only:** Browse to see combined dataset stats and summaries – no execution required.\n",
    "- **Run Yourself:**\n",
    "  1. Ensure yearly `final_tmdb_data_YYYY.csv.gz` files exist in `Data/` (in repo)\n",
    "  2. Install dependencies:  \n",
    "     ```bash\n",
    "     pip install -r requirements.txt\n",
    "     ```\n",
    "  3. Run all cells.\n",
    "\n",
    "---\n",
    "\n",
    "## 🛠 Skills Demonstrated\n",
    "- Multi‑file ingestion and concatenation\n",
    "- Data filtering with conditional logic\n",
    "- Grouped summaries and aggregation in `pandas`\n",
    "- Portfolio‑friendly documentation"
   ]
  },
  {
   "cell_type": "code",
   "execution_count": 1,
   "id": "706998db-165a-4955-8ae0-d7da53f6aa1e",
   "metadata": {},
   "outputs": [
    {
     "name": "stdout",
     "output_type": "stream",
     "text": [
      "📂 Loading final_tmdb_data_2000.csv.gz\n",
      "📂 Loading final_tmdb_data_2001.csv.gz\n",
      "✅ Combined 2 files into one DataFrame with 2,507 rows.\n",
      "💾 Combined dataset saved to: Data\\tmdb_results_combined.csv.gz\n",
      "<class 'pandas.core.frame.DataFrame'>\n",
      "RangeIndex: 2507 entries, 0 to 2506\n",
      "Data columns (total 26 columns):\n",
      " #   Column                 Non-Null Count  Dtype  \n",
      "---  ------                 --------------  -----  \n",
      " 0   imdb_id                2507 non-null   object \n",
      " 1   adult                  2505 non-null   float64\n",
      " 2   backdrop_path          1334 non-null   object \n",
      " 3   belongs_to_collection  201 non-null    object \n",
      " 4   budget                 2505 non-null   float64\n",
      " 5   genres                 2505 non-null   object \n",
      " 6   homepage               169 non-null    object \n",
      " 7   id                     2505 non-null   float64\n",
      " 8   original_language      2505 non-null   object \n",
      " 9   original_title         2505 non-null   object \n",
      " 10  overview               2455 non-null   object \n",
      " 11  popularity             2505 non-null   float64\n",
      " 12  poster_path            2242 non-null   object \n",
      " 13  production_companies   2505 non-null   object \n",
      " 14  production_countries   2505 non-null   object \n",
      " 15  release_date           2491 non-null   object \n",
      " 16  revenue                2505 non-null   float64\n",
      " 17  runtime                2505 non-null   float64\n",
      " 18  spoken_languages       2505 non-null   object \n",
      " 19  status                 2505 non-null   object \n",
      " 20  tagline                1074 non-null   object \n",
      " 21  title                  2505 non-null   object \n",
      " 22  video                  2505 non-null   float64\n",
      " 23  vote_average           2505 non-null   float64\n",
      " 24  vote_count             2505 non-null   float64\n",
      " 25  certification          803 non-null    object \n",
      "dtypes: float64(9), object(17)\n",
      "memory usage: 509.4+ KB\n"
     ]
    }
   ],
   "source": [
    "import pandas as pd\n",
    "import os\n",
    "import glob\n",
    "\n",
    "pd.set_option('display.float_format', '{:,.0f}'.format)\n",
    "\n",
    "# === 1. AUTO‑LOAD ALL YEARLY TMDb FILES FROM Data/ FOLDER ===\n",
    "data_dir = os.path.join(\"Data\")\n",
    "file_pattern = os.path.join(data_dir, \"final_tmdb_data_*.csv.gz\")\n",
    "\n",
    "yearly_files = sorted(glob.glob(file_pattern))\n",
    "\n",
    "if not yearly_files:\n",
    "    raise FileNotFoundError(\n",
    "        f\"No TMDb yearly files found matching pattern: {file_pattern}\\n\"\n",
    "        \"Make sure cleaned yearly files are saved in the Data/ folder.\"\n",
    "    )\n",
    "\n",
    "# Load and merge\n",
    "df_list = []\n",
    "for file in yearly_files:\n",
    "    print(f\"📂 Loading {os.path.basename(file)}\")\n",
    "    df_list.append(pd.read_csv(file))\n",
    "\n",
    "tmdb_results_combined = pd.concat(df_list, ignore_index=True)\n",
    "print(f\"✅ Combined {len(yearly_files)} files into one DataFrame with {len(tmdb_results_combined):,} rows.\")\n",
    "\n",
    "# === 2. SAVE COMBINED DATASET FOR REPRODUCIBILITY ===\n",
    "combined_path = os.path.join(data_dir, \"tmdb_results_combined.csv.gz\")\n",
    "tmdb_results_combined.to_csv(combined_path, compression=\"gzip\", index=False)\n",
    "print(f\"💾 Combined dataset saved to: {combined_path}\")\n",
    "\n",
    "# Quick info check\n",
    "tmdb_results_combined.info()\n"
   ]
  },
  {
   "cell_type": "markdown",
   "id": "f1c7fc6c-fdfb-4112-b8c7-759aba2ae50b",
   "metadata": {},
   "source": [
    "<details>\n",
    "<summary><strong>Q1: How many movies have at least some valid financial information?</strong></summary>\n",
    "\n",
    "We define “valid” as having **budget > 0** or **revenue > 0**.  \n",
    "Movies with both budget and revenue equal to 0 are excluded from later visualizations and summaries.\n",
    "\n",
    "</details>\n"
   ]
  },
  {
   "cell_type": "code",
   "execution_count": 13,
   "id": "57c04d92-9774-41d8-895e-d57805ddc126",
   "metadata": {},
   "outputs": [
    {
     "data": {
      "text/html": [
       "<div>\n",
       "<style scoped>\n",
       "    .dataframe tbody tr th:only-of-type {\n",
       "        vertical-align: middle;\n",
       "    }\n",
       "\n",
       "    .dataframe tbody tr th {\n",
       "        vertical-align: top;\n",
       "    }\n",
       "\n",
       "    .dataframe thead th {\n",
       "        text-align: right;\n",
       "    }\n",
       "</style>\n",
       "<table border=\"1\" class=\"dataframe\">\n",
       "  <thead>\n",
       "    <tr style=\"text-align: right;\">\n",
       "      <th></th>\n",
       "      <th>title</th>\n",
       "      <th>budget</th>\n",
       "      <th>revenue</th>\n",
       "    </tr>\n",
       "  </thead>\n",
       "  <tbody>\n",
       "    <tr>\n",
       "      <th>1</th>\n",
       "      <td>The Fantasticks</td>\n",
       "      <td>10000000.0</td>\n",
       "      <td>0.0</td>\n",
       "    </tr>\n",
       "    <tr>\n",
       "      <th>4</th>\n",
       "      <td>In the Mood for Love</td>\n",
       "      <td>150000.0</td>\n",
       "      <td>12854953.0</td>\n",
       "    </tr>\n",
       "    <tr>\n",
       "      <th>6</th>\n",
       "      <td>Heavy Metal 2000</td>\n",
       "      <td>15000000.0</td>\n",
       "      <td>0.0</td>\n",
       "    </tr>\n",
       "    <tr>\n",
       "      <th>10</th>\n",
       "      <td>Songs from the Second Floor</td>\n",
       "      <td>0.0</td>\n",
       "      <td>80334.0</td>\n",
       "    </tr>\n",
       "    <tr>\n",
       "      <th>11</th>\n",
       "      <td>Vulgar</td>\n",
       "      <td>120000.0</td>\n",
       "      <td>14904.0</td>\n",
       "    </tr>\n",
       "  </tbody>\n",
       "</table>\n",
       "</div>"
      ],
      "text/plain": [
       "                          title      budget     revenue\n",
       "1               The Fantasticks  10000000.0         0.0\n",
       "4          In the Mood for Love    150000.0  12854953.0\n",
       "6              Heavy Metal 2000  15000000.0         0.0\n",
       "10  Songs from the Second Floor         0.0     80334.0\n",
       "11                       Vulgar    120000.0     14904.0"
      ]
     },
     "execution_count": 13,
     "metadata": {},
     "output_type": "execute_result"
    }
   ],
   "source": [
    "# Create boolean mask: TRUE if budget > 0 OR revenue > 0\n",
    "financial_filter = (\n",
    "    (tmdb_results_combined['budget'] > 0) | \n",
    "    (tmdb_results_combined['revenue'] > 0)\n",
    ")\n",
    "\n",
    "# Apply filter to get only movies with some financial information\n",
    "financial_df = tmdb_results_combined.loc[financial_filter]\n",
    "\n",
    "# Preview a few relevant columns to verify the filter worked\n",
    "financial_df[['title', 'budget', 'revenue']].head()\n"
   ]
  },
  {
   "cell_type": "markdown",
   "id": "cfe72eb4-d252-426e-8724-2a1b22879d79",
   "metadata": {},
   "source": [
    "<details>\n",
    "<summary><strong>Q2: How many movies are there in each certification category (G / PG / PG‑13 / R)?</strong></summary>\n",
    "\n",
    "Understanding the distribution of certifications helps identify gaps or biases in the dataset,  \n",
    "and may guide which segments we compare in deeper analysis.\n",
    "\n",
    "</details>\n"
   ]
  },
  {
   "cell_type": "code",
   "execution_count": 15,
   "id": "a2a3917a-7f81-4b7a-8e7a-8ff1bfc56aac",
   "metadata": {},
   "outputs": [
    {
     "data": {
      "text/plain": [
       "certification\n",
       "R          456\n",
       "PG-13      183\n",
       "NR          69\n",
       "PG          63\n",
       "G           24\n",
       "NC-17        6\n",
       "Unrated      1\n",
       "-            1\n",
       "Name: count, dtype: int64"
      ]
     },
     "execution_count": 15,
     "metadata": {},
     "output_type": "execute_result"
    }
   ],
   "source": [
    "# Count how many movies fall into each certification category\n",
    "# Helps us understand dataset distribution across rating levels\n",
    "cert_counts = tmdb_results_combined['certification'].value_counts()\n",
    "cert_counts\n"
   ]
  },
  {
   "cell_type": "markdown",
   "id": "b510bba3-3939-4625-ae6c-17f9cb2951a6",
   "metadata": {},
   "source": [
    "<details>\n",
    "<summary><strong>Q3: What is the average revenue per certification category?</strong></summary>\n",
    "\n",
    "This gives a high‑level view of how revenue potential varies by rating.  \n",
    "Later, this can be paired with budget data to examine ROI.\n",
    "\n",
    "</details>\n"
   ]
  },
  {
   "cell_type": "code",
   "execution_count": 28,
   "id": "a9591fbf-3b28-4e40-a036-20122645c184",
   "metadata": {},
   "outputs": [
    {
     "data": {
      "text/plain": [
       "certification\n",
       "-                  0\n",
       "G         72,185,327\n",
       "NC-17              0\n",
       "NR         2,189,701\n",
       "PG        62,583,104\n",
       "PG-13     71,057,114\n",
       "R         16,678,490\n",
       "Unrated            0\n",
       "Name: revenue, dtype: float64"
      ]
     },
     "execution_count": 28,
     "metadata": {},
     "output_type": "execute_result"
    }
   ],
   "source": [
    "# Calculate mean revenue grouped by certification rating\n",
    "# Useful for spotting trends in earning potential by rating\n",
    "avg_rev_by_cert = tmdb_results_combined.groupby('certification')['revenue'].mean()\n",
    "avg_rev_by_cert\n"
   ]
  },
  {
   "cell_type": "markdown",
   "id": "de44e8c1-8c59-49b2-9866-646b6fb81abd",
   "metadata": {},
   "source": [
    "<details>\n",
    "<summary><strong>Q4: What is the average budget per certification category?</strong></summary>\n",
    "\n",
    "Shows typical spending levels by rating category, which can reveal whether higher‑rated films  \n",
    "tend to have larger production budgets.\n",
    "\n",
    "</details>\n"
   ]
  },
  {
   "cell_type": "code",
   "execution_count": 30,
   "id": "263573e7-474b-4a2a-8f56-ff5b58612f4e",
   "metadata": {},
   "outputs": [
    {
     "data": {
      "text/plain": [
       "certification\n",
       "-                  0\n",
       "G         23,833,333\n",
       "NC-17              0\n",
       "NR         1,552,755\n",
       "PG        24,980,159\n",
       "PG-13     30,891,573\n",
       "R          9,916,676\n",
       "Unrated            0\n",
       "Name: budget, dtype: float64"
      ]
     },
     "execution_count": 30,
     "metadata": {},
     "output_type": "execute_result"
    }
   ],
   "source": [
    "# Calculate average budget grouped by certification\n",
    "avg_budget_by_cert = tmdb_results_combined.groupby('certification')['budget'].mean()\n",
    "avg_budget_by_cert\n"
   ]
  },
  {
   "cell_type": "code",
   "execution_count": null,
   "id": "cef57eab-acd3-45b6-92c5-20d27982f6c1",
   "metadata": {},
   "outputs": [],
   "source": []
  }
 ],
 "metadata": {
  "kernelspec": {
   "display_name": "Python [conda env:base] *",
   "language": "python",
   "name": "conda-base-py"
  },
  "language_info": {
   "codemirror_mode": {
    "name": "ipython",
    "version": 3
   },
   "file_extension": ".py",
   "mimetype": "text/x-python",
   "name": "python",
   "nbconvert_exporter": "python",
   "pygments_lexer": "ipython3",
   "version": "3.13.5"
  }
 },
 "nbformat": 4,
 "nbformat_minor": 5
}
