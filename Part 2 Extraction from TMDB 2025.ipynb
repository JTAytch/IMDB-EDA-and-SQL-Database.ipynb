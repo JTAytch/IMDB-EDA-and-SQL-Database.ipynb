{
 "cells": [
  {
   "cell_type": "markdown",
   "id": "bf1b263b-3616-45d4-a82c-f003ea37413c",
   "metadata": {},
   "source": [
    "# TMDB Data Extraction\n",
    "\n",
    "## Overview\n",
    "In Part 1, we identified that the IMDB dataset lacked **financial metrics** such as budget and revenue, which are essential for analyzing movie success.  \n",
    "To address this gap, we integrated **The Movie Database (TMDB)** as a supplemental data source, leveraging its free API to enrich our dataset.\n",
    "\n",
    "## Stakeholder Request\n",
    "- Add **budget**, **revenue**, and **MPAA Certification** (G, PG, PG‑13, R) to the filtered movie dataset from Part 1.\n",
    "- Run a proof‑of‑concept extraction for movies released in **2000** and **2001**.\n",
    "- Save one compressed CSV file per year.\n",
    "\n",
    "## Approach\n",
    "1. **Setup:** Import required libraries, configure folders, and load API credentials securely from a local JSON file.\n",
    "2. **Helper Functions:**\n",
    "   - `write_json()` → appends API results to JSON storage.\n",
    "   - `get_movie_with_rating()` → retrieves movie details + US certification.\n",
    "3. **Validation:** Test the extraction functions with two known titles to confirm correct API behavior.\n",
    "4. **Data Extraction Loops:**\n",
    "   - Outer loop iterates over the years in scope.\n",
    "   - Inner loop calls the TMDB API for each movie ID, stores results in JSON, and writes yearly compressed CSVs.\n",
    "5. **Merge Results:** Concatenate yearly files into a single combined dataset for downstream EDA.\n",
    "\n",
    "## Deliverables\n",
    "- `final_tmdb_data_2000.csv.gz`\n",
    "- `final_tmdb_data_2001.csv.gz`\n",
    "- `tmdb_results_combined.csv.gz` (all TMDB API data merged)\n",
    "- Well‑commented code for both API extraction and EDA.\n",
    "\n",
    "**Note:** API extraction is rate‑limited; execution on large datasets may require extended run times.\n"
   ]
  },
  {
   "cell_type": "code",
   "execution_count": 2,
   "id": "e15e16f9-99af-4dc9-a97b-71f20bbfcea9",
   "metadata": {},
   "outputs": [],
   "source": [
    "# pip install tmdbsimple"
   ]
  },
  {
   "cell_type": "code",
   "execution_count": 3,
   "id": "dc141df8-dd80-4751-8ab8-d6258154aaef",
   "metadata": {},
   "outputs": [
    {
     "data": {
      "text/plain": [
       "['final_akas.csv.gz',\n",
       " 'final_basics.csv.gz',\n",
       " 'final_ratings.csv.gz',\n",
       " 'final_tmdb_data_2000.csv.gz',\n",
       " 'final_tmdb_data_2001.csv.gz',\n",
       " 'title_basics.csv.gz',\n",
       " 'tmdb_api_results_2000.json',\n",
       " 'tmdb_api_results_2001.json',\n",
       " 'tmdb_results_combined.csv.gz']"
      ]
     },
     "execution_count": 3,
     "metadata": {},
     "output_type": "execute_result"
    }
   ],
   "source": [
    "import os, time, json\n",
    "import pandas as pd\n",
    "import tmdbsimple as tmdb\n",
    "from tqdm.notebook import tqdm_notebook\n",
    "\n",
    "# Folder for storing data\n",
    "FOLDER = \"Data/\"\n",
    "os.makedirs(FOLDER, exist_ok=True)\n",
    "\n",
    "# List files currently in the Data folder\n",
    "os.listdir(FOLDER)\n"
   ]
  },
  {
   "cell_type": "code",
   "execution_count": 4,
   "id": "536fe102-ff33-4344-9224-ae0c0a7ef958",
   "metadata": {},
   "outputs": [],
   "source": [
    "import os, json\n",
    "\n",
    "# Build path to your secret file in a cross-platform way\n",
    "secret_path = os.path.expanduser(\"~/.secret/TMDB_api.json\")\n",
    "\n",
    "with open(secret_path, 'r') as f:\n",
    "    login = json.load(f)\n",
    "\n",
    "tmdb.API_KEY = login['api-key']\n"
   ]
  },
  {
   "cell_type": "code",
   "execution_count": 5,
   "id": "18d6bfdc-0a27-4ab2-b9da-d57999f312be",
   "metadata": {},
   "outputs": [],
   "source": [
    "def write_json(new_data, filename):\n",
    "    \"\"\"\n",
    "    Appends new movie records to an existing JSON file.\n",
    "    Handles both list and dict JSON structures.\n",
    "    Adapted from: https://www.geeksforgeeks.org/append-to-json-file-using-python/\n",
    "    \"\"\"\n",
    "    with open(filename, 'r+') as file:\n",
    "        file_data = json.load(file)\n",
    "\n",
    "        # Extend if both are lists, else append\n",
    "        if isinstance(new_data, list) and isinstance(file_data, list):\n",
    "            file_data.extend(new_data)\n",
    "        else:\n",
    "            file_data.append(new_data)\n",
    "\n",
    "        # Reset file pointer & overwrite\n",
    "        file.seek(0)\n",
    "        json.dump(file_data, file)\n",
    "\n",
    "\n",
    "def get_movie_with_rating(movie_id):\n",
    "    \"\"\"\n",
    "    Retrieves TMDB movie details plus US certification rating.\n",
    "    \"\"\"\n",
    "    movie = tmdb.Movies(movie_id)\n",
    "    info = movie.info()\n",
    "    releases = movie.releases()\n",
    "\n",
    "    # Search for US certification and add to info dict\n",
    "    for c in releases['countries']:\n",
    "        if c['iso_3166_1'] == 'US':\n",
    "            info['certification'] = c['certification']\n",
    "\n",
    "    return info\n"
   ]
  },
  {
   "cell_type": "code",
   "execution_count": 6,
   "id": "0cfb65c6-f38e-43b6-8a63-01f12c5937e0",
   "metadata": {},
   "outputs": [
    {
     "data": {
      "text/plain": [
       "{'adult': False,\n",
       " 'backdrop_path': '/bWoa6FtpnD2qByTVTmL5pAZUAKv.jpg',\n",
       " 'belongs_to_collection': None,\n",
       " 'budget': 29000000,\n",
       " 'genres': [{'id': 10749, 'name': 'Romance'}, {'id': 18, 'name': 'Drama'}],\n",
       " 'homepage': 'http://www.newline.com/properties/notebookthe.html',\n",
       " 'id': 11036,\n",
       " 'imdb_id': 'tt0332280',\n",
       " 'origin_country': ['US'],\n",
       " 'original_language': 'en',\n",
       " 'original_title': 'The Notebook',\n",
       " 'overview': \"An epic love story centered around an older man who reads aloud to a woman with Alzheimer's. From a faded notebook, the old man's words bring to life the story about a couple who is separated by World War II, and is then passionately reunited, seven years later, after they have taken different paths.\",\n",
       " 'popularity': 14.7851,\n",
       " 'poster_path': '/rNzQyW4f8B8cQeg7Dgj3n6eT5k9.jpg',\n",
       " 'production_companies': [{'id': 12,\n",
       "   'logo_path': '/x33I3vv8nx1O7rECNN7X5MsAFoN.png',\n",
       "   'name': 'New Line Cinema',\n",
       "   'origin_country': 'US'},\n",
       "  {'id': 1565, 'logo_path': None, 'name': 'Avery Pix', 'origin_country': 'US'},\n",
       "  {'id': 2605,\n",
       "   'logo_path': None,\n",
       "   'name': 'Gran Via Productions',\n",
       "   'origin_country': 'US'}],\n",
       " 'production_countries': [{'iso_3166_1': 'US',\n",
       "   'name': 'United States of America'}],\n",
       " 'release_date': '2004-05-25',\n",
       " 'revenue': 115600000,\n",
       " 'runtime': 123,\n",
       " 'spoken_languages': [{'english_name': 'English',\n",
       "   'iso_639_1': 'en',\n",
       "   'name': 'English'}],\n",
       " 'status': 'Released',\n",
       " 'tagline': 'Behind every great love is a great story.',\n",
       " 'title': 'The Notebook',\n",
       " 'video': False,\n",
       " 'vote_average': 7.891,\n",
       " 'vote_count': 12023,\n",
       " 'certification': 'PG-13'}"
      ]
     },
     "execution_count": 6,
     "metadata": {},
     "output_type": "execute_result"
    }
   ],
   "source": [
    "# Test with known movie IDs\n",
    "get_movie_with_rating(\"tt0848228\")  # The Avengers\n",
    "get_movie_with_rating(\"tt0332280\")  # The Notebook\n"
   ]
  },
  {
   "cell_type": "code",
   "execution_count": 7,
   "id": "c6ce46f2-526b-4237-92a4-304293e56248",
   "metadata": {},
   "outputs": [],
   "source": [
    "# Load filtered dataset from Part 1\n",
    "basics = pd.read_csv('Data/final_basics.csv.gz')\n",
    "\n",
    "# Error tracking\n",
    "errors = []\n",
    "\n",
    "# Years to process in proof-of-concept run\n",
    "YEARS_TO_GET = [2000, 2001]\n"
   ]
  },
  {
   "cell_type": "code",
   "execution_count": 8,
   "id": "66e7ea48-7df0-4091-a5bf-c2b2cac7e735",
   "metadata": {},
   "outputs": [
    {
     "data": {
      "application/vnd.jupyter.widget-view+json": {
       "model_id": "2773f93bb7aa41e6b3850a6bd063d09f",
       "version_major": 2,
       "version_minor": 0
      },
      "text/plain": [
       "YEARS:   0%|          | 0/2 [00:00<?, ?it/s]"
      ]
     },
     "metadata": {},
     "output_type": "display_data"
    },
    {
     "data": {
      "application/vnd.jupyter.widget-view+json": {
       "model_id": "40099e658f1843d3b8d8ea70ca010e89",
       "version_major": 2,
       "version_minor": 0
      },
      "text/plain": [
       "Movies from 2000:   0%|          | 0/189 [00:00<?, ?it/s]"
      ]
     },
     "metadata": {},
     "output_type": "display_data"
    },
    {
     "data": {
      "application/vnd.jupyter.widget-view+json": {
       "model_id": "0efef88845304070af8f8d693c6bd43c",
       "version_major": 2,
       "version_minor": 0
      },
      "text/plain": [
       "Movies from 2001:   0%|          | 0/318 [00:00<?, ?it/s]"
      ]
     },
     "metadata": {},
     "output_type": "display_data"
    }
   ],
   "source": [
    "for YEAR in tqdm_notebook(YEARS_TO_GET, desc='YEARS', position=0):\n",
    "\n",
    "    JSON_FILE = f'{FOLDER}tmdb_api_results_{YEAR}.json'\n",
    "\n",
    "    # Create empty JSON file if it doesn't exist\n",
    "    if not os.path.isfile(JSON_FILE):\n",
    "        with open(JSON_FILE, 'w') as f:\n",
    "            json.dump([{'imdb_id': 0}], f)\n",
    "\n",
    "    # Filter movies for the current year\n",
    "    df = basics.loc[basics['startYear'] == YEAR].copy()\n",
    "    movie_ids = df['tconst'].copy()\n",
    "\n",
    "    # Load existing JSON data & avoid re-fetching already-stored IDs\n",
    "    previous_df = pd.read_json(JSON_FILE)\n",
    "    movie_ids_to_get = movie_ids[~movie_ids.isin(previous_df['imdb_id'])]\n",
    "\n",
    "    # Inner loop — fetch each movie from API\n",
    "    for movie_id in tqdm_notebook(movie_ids_to_get,\n",
    "                                  desc=f'Movies from {YEAR}',\n",
    "                                  position=1, leave=True):\n",
    "        try:\n",
    "            temp = get_movie_with_rating(movie_id)\n",
    "            write_json(temp, JSON_FILE)\n",
    "            time.sleep(0.02)  # Avoid hammering the server\n",
    "        except Exception as e:\n",
    "            errors.append([movie_id, e])\n",
    "\n",
    "    # Save yearly CSV output\n",
    "    final_year_df = pd.read_json(JSON_FILE)\n",
    "    final_year_df.to_csv(f\"{FOLDER}final_tmdb_data_{YEAR}.csv.gz\",\n",
    "                         compression=\"gzip\", index=False)\n"
   ]
  },
  {
   "cell_type": "code",
   "execution_count": 9,
   "id": "a5b8c3a5-9a5d-4036-8e06-417bf2186f1e",
   "metadata": {},
   "outputs": [],
   "source": [
    "# Load yearly files\n",
    "year_2000 = pd.read_csv('Data/final_tmdb_data_2000.csv.gz')\n",
    "year_2001 = pd.read_csv('Data/final_tmdb_data_2001.csv.gz')\n",
    "\n",
    "# Combine into one DataFrame\n",
    "tmdb_results_combined = pd.concat([year_2001, year_2000], ignore_index=True)\n",
    "\n",
    "# Save merged file for EDA\n",
    "tmdb_results_combined.to_csv(f\"{FOLDER}tmdb_results_combined.csv.gz\",\n",
    "                             compression=\"gzip\", index=False)\n"
   ]
  },
  {
   "cell_type": "code",
   "execution_count": null,
   "id": "c078cfa7-9c8c-49ad-9f03-fd16483b5db4",
   "metadata": {},
   "outputs": [],
   "source": []
  }
 ],
 "metadata": {
  "kernelspec": {
   "display_name": "Python 3 (ipykernel)",
   "language": "python",
   "name": "python3"
  },
  "language_info": {
   "codemirror_mode": {
    "name": "ipython",
    "version": 3
   },
   "file_extension": ".py",
   "mimetype": "text/x-python",
   "name": "python",
   "nbconvert_exporter": "python",
   "pygments_lexer": "ipython3",
   "version": "3.11.7"
  }
 },
 "nbformat": 4,
 "nbformat_minor": 5
}
