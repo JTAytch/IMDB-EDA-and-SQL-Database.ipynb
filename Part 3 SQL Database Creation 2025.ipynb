{
 "cells": [
  {
   "cell_type": "markdown",
   "id": "b6808620-d268-4fde-9632-35f8e7fc5a58",
   "metadata": {},
   "source": [
    "# Part 3 (Core ETL to MySQL)\n",
    "\n",
    "Goal\n",
    "Transform cleaned movie datasets into a relational MySQL database (`movies`) with:\n",
    "- `title_basics`  \n",
    "- `title_ratings`  \n",
    "- `title_genres` (join table)  \n",
    "- `genres` (lookup table)  \n",
    "- `tmdb_data`\n",
    "\n",
    "All tables set with correct primary keys and tested with SQL queries.\n"
   ]
  },
  {
   "cell_type": "code",
   "execution_count": 12,
   "id": "ac324503-86ea-4ab2-9d8e-19a5fe7c6704",
   "metadata": {},
   "outputs": [],
   "source": [
    "# pip install yelpapi"
   ]
  },
  {
   "cell_type": "code",
   "execution_count": 14,
   "id": "3bc2e3fa-9c31-4259-99f6-1222d792e190",
   "metadata": {},
   "outputs": [
    {
     "data": {
      "text/plain": [
       "['final_akas.csv.gz',\n",
       " 'final_basics.csv.gz',\n",
       " 'final_ratings.csv.gz',\n",
       " 'final_tmdb_data_2000.csv.gz',\n",
       " 'final_tmdb_data_2001.csv.gz',\n",
       " 'title_basics.csv.gz',\n",
       " 'tmdb_api_results_2000.json',\n",
       " 'tmdb_api_results_2001.json',\n",
       " 'tmdb_results_combined.csv.gz']"
      ]
     },
     "execution_count": 14,
     "metadata": {},
     "output_type": "execute_result"
    }
   ],
   "source": [
    "# ## 1. Setup & Imports\n",
    "import os, time, json\n",
    "import pandas as pd\n",
    "import tmdbsimple as tmdb\n",
    "from tqdm.notebook import tqdm_notebook\n",
    "from yelpapi import YelpAPI\n",
    "\n",
    "# Ensure data folder exists\n",
    "FOLDER = \"Data/\"\n",
    "os.makedirs(FOLDER, exist_ok=True)\n",
    "os.listdir(FOLDER)\n"
   ]
  },
  {
   "cell_type": "code",
   "execution_count": 17,
   "id": "2f258c9a-10ba-415e-a271-cf857c730305",
   "metadata": {},
   "outputs": [],
   "source": [
    "# ## 2. API Credentials (TMDB)\n",
    "with open('C:/Users/tulan/.secret/TMDB_api.json', 'r') as f:\n",
    "    login = json.load(f)\n",
    "\n",
    "tmdb.API_KEY = login['api-key']\n"
   ]
  },
  {
   "cell_type": "code",
   "execution_count": 19,
   "id": "cc498369-99b4-4a89-9e63-6eb69f74f2bf",
   "metadata": {},
   "outputs": [
    {
     "name": "stdout",
     "output_type": "stream",
     "text": [
      "<class 'pandas.core.frame.DataFrame'>\n",
      "RangeIndex: 91011 entries, 0 to 91010\n",
      "Data columns (total 9 columns):\n",
      " #   Column          Non-Null Count  Dtype  \n",
      "---  ------          --------------  -----  \n",
      " 0   tconst          91011 non-null  object \n",
      " 1   titleType       91011 non-null  object \n",
      " 2   primaryTitle    91010 non-null  object \n",
      " 3   originalTitle   91010 non-null  object \n",
      " 4   isAdult         91011 non-null  int64  \n",
      " 5   startYear       91011 non-null  float64\n",
      " 6   endYear         0 non-null      float64\n",
      " 7   runtimeMinutes  91011 non-null  int64  \n",
      " 8   genres          91011 non-null  object \n",
      "dtypes: float64(2), int64(2), object(5)\n",
      "memory usage: 6.2+ MB\n"
     ]
    }
   ],
   "source": [
    "# ## 3. Load & Inspect Title Basics\n",
    "basics = pd.read_csv('Data/final_basics.csv.gz')\n",
    "basics.info()\n"
   ]
  },
  {
   "cell_type": "code",
   "execution_count": 21,
   "id": "6376eb94-ffa7-4ccc-b50d-a67fe179cfac",
   "metadata": {},
   "outputs": [],
   "source": [
    "# ## 4. Drop Unnecessary Columns (Normalization step)\n",
    "basics = basics.drop(['originalTitle', 'isAdult', 'titleType'], axis=1)\n"
   ]
  },
  {
   "cell_type": "code",
   "execution_count": 23,
   "id": "5b18d16f-5aa3-40b7-a0cc-17ece45c074a",
   "metadata": {},
   "outputs": [],
   "source": [
    "# ## 5. Split & Normalize Genres\n",
    "# Create a list of genres per row\n",
    "basics['genres_split'] = basics['genres'].str.split(',')\n",
    "\n",
    "# Explode to long format (1 genre per row)\n",
    "exploded_genres = basics.explode('genres_split')\n",
    "\n",
    "# Unique genre list\n",
    "unique_genres = sorted(exploded_genres['genres_split'].unique())\n"
   ]
  },
  {
   "cell_type": "code",
   "execution_count": 26,
   "id": "e647a28a-64bc-445a-aff9-f39a66576e66",
   "metadata": {},
   "outputs": [],
   "source": [
    "# ## 6. Build title_genres Table\n",
    "title_genres = exploded_genres[['tconst', 'genres_split']].copy()\n",
    "\n",
    "# Map genres to integer IDs\n",
    "genre_map = dict(zip(unique_genres, range(len(unique_genres))))\n",
    "title_genres['genre_id'] = title_genres['genres_split'].map(genre_map)\n",
    "title_genres = title_genres.drop(columns='genres_split')\n"
   ]
  },
  {
   "cell_type": "code",
   "execution_count": 28,
   "id": "a632d915-da25-4296-a881-7ec976f53549",
   "metadata": {},
   "outputs": [],
   "source": [
    "# ## 7. Build genres Lookup Table\n",
    "genre_lookup = pd.DataFrame({\n",
    "    'Genre_name': genre_map.keys(),\n",
    "    'Genre_ID': genre_map.values()\n",
    "})\n"
   ]
  },
  {
   "cell_type": "code",
   "execution_count": 30,
   "id": "87740375-964d-4310-a2d2-e601e24a19bd",
   "metadata": {},
   "outputs": [],
   "source": [
    "# ## 8. Load Title Ratings\n",
    "ratings = pd.read_csv('Data/final_ratings.csv.gz')\n",
    "# No transformations required\n"
   ]
  },
  {
   "cell_type": "code",
   "execution_count": 32,
   "id": "9b34763b-1ade-419a-8366-db9527a4ece0",
   "metadata": {},
   "outputs": [],
   "source": [
    "# ## 9. Load & Filter TMDB API Results\n",
    "results = pd.read_csv('Data/tmdb_results_combined.csv.gz')\n",
    "results = results[['imdb_id', 'revenue', 'budget', 'certification']]\n",
    "results = results.rename(columns={'imdb_id': 'tconst'})\n"
   ]
  },
  {
   "cell_type": "code",
   "execution_count": 34,
   "id": "81bf903d-e61e-4162-93fd-cf7afd0aa904",
   "metadata": {},
   "outputs": [],
   "source": [
    "# ## 10. Re-create Cleaned Basics (Drop genre column for SQL table)\n",
    "basics = pd.read_csv('Data/final_basics.csv.gz')\n",
    "basics = basics.drop(['originalTitle','isAdult','titleType','genres'], axis=1)\n"
   ]
  },
  {
   "cell_type": "code",
   "execution_count": null,
   "id": "5f4e20a7-009a-48be-9a0d-fd3b7c473adc",
   "metadata": {},
   "outputs": [],
   "source": []
  }
 ],
 "metadata": {
  "kernelspec": {
   "display_name": "Python [conda env:base] *",
   "language": "python",
   "name": "conda-base-py"
  },
  "language_info": {
   "codemirror_mode": {
    "name": "ipython",
    "version": 3
   },
   "file_extension": ".py",
   "mimetype": "text/x-python",
   "name": "python",
   "nbconvert_exporter": "python",
   "pygments_lexer": "ipython3",
   "version": "3.13.5"
  }
 },
 "nbformat": 4,
 "nbformat_minor": 5
}
